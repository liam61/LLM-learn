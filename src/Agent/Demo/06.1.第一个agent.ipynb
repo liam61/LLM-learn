{
 "cells": [
  {
   "cell_type": "markdown",
   "id": "6b70f282",
   "metadata": {},
   "source": [
    "# 第一个 Agent\n",
    "\n",
    "agent 能力\n",
    "- 会做数学题\n",
    "- 不会时可以搜索\n",
    "\n",
    "1. 搭建工具\n",
    "\n",
    "- serpai 是一个聚合搜索引擎，需要安装谷歌搜索包以及申请账号\n",
    "- llm-math 是一个封装好的数学计算链\n"
   ]
  },
  {
   "cell_type": "code",
   "execution_count": 1,
   "id": "d0739a4f",
   "metadata": {},
   "outputs": [
    {
     "name": "stdout",
     "output_type": "stream",
     "text": [
      "Collecting google-search-results\n",
      "  Downloading google_search_results-2.4.2.tar.gz (18 kB)\n",
      "  Installing build dependencies ... \u001b[?25ldone\n",
      "\u001b[?25h  Getting requirements to build wheel ... \u001b[?25ldone\n",
      "\u001b[?25h  Preparing metadata (pyproject.toml) ... \u001b[?25ldone\n",
      "\u001b[?25hRequirement already satisfied: requests in /Users/liam.liu/.pyenv/versions/3.12.10/lib/python3.12/site-packages (from google-search-results) (2.32.3)\n",
      "Requirement already satisfied: charset-normalizer<4,>=2 in /Users/liam.liu/.pyenv/versions/3.12.10/lib/python3.12/site-packages (from requests->google-search-results) (3.4.1)\n",
      "Requirement already satisfied: idna<4,>=2.5 in /Users/liam.liu/.pyenv/versions/3.12.10/lib/python3.12/site-packages (from requests->google-search-results) (3.10)\n",
      "Requirement already satisfied: urllib3<3,>=1.21.1 in /Users/liam.liu/.pyenv/versions/3.12.10/lib/python3.12/site-packages (from requests->google-search-results) (2.4.0)\n",
      "Requirement already satisfied: certifi>=2017.4.17 in /Users/liam.liu/.pyenv/versions/3.12.10/lib/python3.12/site-packages (from requests->google-search-results) (2025.1.31)\n",
      "Building wheels for collected packages: google-search-results\n",
      "  Building wheel for google-search-results (pyproject.toml) ... \u001b[?25ldone\n",
      "\u001b[?25h  Created wheel for google-search-results: filename=google_search_results-2.4.2-py3-none-any.whl size=32091 sha256=4d9526cbcde34dde8000b801bf594aaca92182086f76b8516b496bb09eb3eda8\n",
      "  Stored in directory: /Users/liam.liu/Library/Caches/pip/wheels/0c/47/f5/89b7e770ab2996baf8c910e7353d6391e373075a0ac213519e\n",
      "Successfully built google-search-results\n",
      "Installing collected packages: google-search-results\n",
      "Successfully installed google-search-results-2.4.2\n"
     ]
    }
   ],
   "source": [
    "! pip install google-search-results"
   ]
  },
  {
   "cell_type": "code",
   "execution_count": null,
   "id": "cbc65033",
   "metadata": {},
   "outputs": [],
   "source": [
    "import os\n",
    "from dotenv import load_dotenv\n",
    "from langchain.chat_models import ChatOpenAI\n",
    "from langchain.agents import load_tools\n",
    "from langchain.agents import initialize_agent\n",
    "from langchain.agents import AgentType\n",
    "\n",
    "load_dotenv()\n",
    "\n",
    "api_key = os.getenv(\"OPENAI_API_KEY\")\n",
    "api_base = os.getenv(\"OPENAI_API_BASE\")\n",
    "serper_api_key= os.getenv(\"SERPER_API_KEY\")\n",
    "\n",
    "llm = ChatOpenAI(\n",
    "    temperature=0,\n",
    "    model=\"gpt-3.5-turbo\",\n",
    ")\n",
    "\n",
    "tools = load_tools([\"serpapi\",\"llm-math\"], llm=llm)\n",
    "\n",
    "agent = initialize_agent(\n",
    "    tools,\n",
    "    llm,\n",
    "    agent=AgentType.ZERO_SHOT_REACT_DESCRIPTION,#这里有不同的类型\n",
    "    verbose=True,#是否打印日志\n",
    ")\n"
   ]
  },
  {
   "cell_type": "code",
   "execution_count": null,
   "id": "2475d6a7",
   "metadata": {},
   "outputs": [],
   "source": [
    "# 运行 agent\n",
    "agent.run(\"请问现任的美国总统是谁？他的年龄的平方是多少?\")\n",
    "\n",
    "print(agent.agent.llm_agent.template)"
   ]
  }
 ],
 "metadata": {
  "kernelspec": {
   "display_name": "3.12.10",
   "language": "python",
   "name": "python3"
  },
  "language_info": {
   "codemirror_mode": {
    "name": "ipython",
    "version": 3
   },
   "file_extension": ".py",
   "mimetype": "text/x-python",
   "name": "python",
   "nbconvert_exporter": "python",
   "pygments_lexer": "ipython3",
   "version": "3.12.10"
  }
 },
 "nbformat": 4,
 "nbformat_minor": 5
}
