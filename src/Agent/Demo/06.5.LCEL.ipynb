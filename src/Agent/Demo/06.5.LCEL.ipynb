{
 "cells": [
  {
   "cell_type": "markdown",
   "id": "efe3abc8",
   "metadata": {},
   "source": [
    "# LCEL(LangChain Expression Language)\n",
    "\n",
    "一个简单的示例"
   ]
  },
  {
   "cell_type": "code",
   "execution_count": null,
   "id": "cdf0249e",
   "metadata": {},
   "outputs": [],
   "source": [
    "from langchain_core.output_parsers import StrOutputParser\n",
    "from langchain_core.prompts import ChatPromptTemplate\n",
    "from langchain_openai import ChatOpenAI\n",
    "\n",
    "prompt = ChatPromptTemplate.from_template(\"给我讲一个关于 {topic}的笑话\")\n",
    "model = ChatOpenAI(model=\"gpt-4\")\n",
    "output_parser = StrOutputParser()\n",
    "\n",
    "# 表达式\n",
    "chain = prompt | model | output_parser\n",
    "\n",
    "chain.invoke({\"topic\": \"冰激凌\"})\n"
   ]
  },
  {
   "cell_type": "code",
   "execution_count": null,
   "id": "c0c3d7b4",
   "metadata": {},
   "outputs": [],
   "source": [
    "prompt_value = prompt.invoke({\"topic\": \"刺猬\"})\n",
    "prompt_value.to_messages()\n",
    "# [HumanMessage(content='给我讲一个关于 刺猬的笑话')]\n",
    "\n",
    "message = model.invoke(prompt_value)\n",
    "message\n",
    "# AIMessage(content='一只兔子和一只刺猬赛跑，刺猬以微弱的优势赢了...', response_metadata={'finish_reason': 'stop', 'logprobs': None})\n",
    "\n",
    "# 使用 LLM 的区别\n",
    "llm = OpenAI(model=\"gpt-3.5-turbo-instruct\")\n",
    "llm.invoke(prompt_value)\n",
    "# '\\n\\nRobot: 为什么刺猬的生日派对总是很失败？因为他们总是把蜡烛都弄灭了！'"
   ]
  },
  {
   "cell_type": "markdown",
   "id": "7e376f46",
   "metadata": {},
   "source": [
    "## RAG Search Exampl\n",
    "\n",
    "比较复杂的例子\n",
    "\n",
    "- 建立向量数据\n",
    "- 使用RAG增强"
   ]
  },
  {
   "cell_type": "code",
   "execution_count": null,
   "id": "c07aaf48",
   "metadata": {},
   "outputs": [],
   "source": [
    "from operator import itemgetter\n",
    "\n",
    "from langchain_community.vectorstores import FAISS\n",
    "from langchain_core.output_parsers import StrOutputParser\n",
    "from langchain_core.prompts import ChatPromptTemplate\n",
    "from langchain_core.runnables import RunnableLambda, RunnablePassthrough\n",
    "from langchain_openai import ChatOpenAI, OpenAIEmbeddings\n",
    "\n",
    "# 创建向量数据库\n",
    "vectorstore = FAISS.from_texts(\n",
    "    [\"harrison worked at kensho\"], embedding=OpenAIEmbeddings()\n",
    ")\n",
    "retriever = vectorstore.as_retriever()\n",
    "\n",
    "template = \"\"\"Answer the question based only on the following context:\n",
    "{context}\n",
    "\n",
    "Question: {question}\n",
    "\"\"\"\n",
    "prompt = ChatPromptTemplate.from_template(template)\n",
    "\n",
    "model = ChatOpenAI()\n",
    "\n",
    "chain = (\n",
    "    {\"context\": retriever, \"question\": RunnablePassthrough()}\n",
    "    | prompt\n",
    "    | model\n",
    "    | StrOutputParser()\n",
    ")"
   ]
  },
  {
   "cell_type": "code",
   "execution_count": null,
   "id": "519d69f8",
   "metadata": {},
   "outputs": [],
   "source": [
    "# 使用\n",
    "chain.invoke(\"where did harrison work?\")\n",
    "# 'Harrison worked at Kensho.'"
   ]
  },
  {
   "cell_type": "code",
   "execution_count": null,
   "id": "d6c0fce1",
   "metadata": {},
   "outputs": [],
   "source": [
    "# 自定义 template\n",
    "template = \"\"\"Answer the question based only on the following context:\n",
    "{context}\n",
    "\n",
    "Question: {question}\n",
    "\n",
    "Answer in the following language: {language}\n",
    "\"\"\"\n",
    "prompt = ChatPromptTemplate.from_template(template)\n",
    "\n",
    "chain = (\n",
    "    {\n",
    "        \"context\": itemgetter(\"question\") | retriever,\n",
    "        \"question\": itemgetter(\"question\"),\n",
    "        \"language\": itemgetter(\"language\"),\n",
    "    }\n",
    "    | prompt\n",
    "    | model\n",
    "    | StrOutputParser()\n",
    ")\n",
    "\n",
    "chain.invoke({\"question\": \"where did harrison work\", \"language\": \"chinese\"})"
   ]
  },
  {
   "cell_type": "markdown",
   "id": "5b3eac08",
   "metadata": {},
   "source": [
    "到 6.11"
   ]
  }
 ],
 "metadata": {
  "kernelspec": {
   "display_name": "3.12.10",
   "language": "python",
   "name": "python3"
  },
  "language_info": {
   "name": "python",
   "version": "3.12.10"
  }
 },
 "nbformat": 4,
 "nbformat_minor": 5
}
