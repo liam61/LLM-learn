{
 "cells": [
  {
   "cell_type": "markdown",
   "id": "9c1873e1",
   "metadata": {},
   "source": [
    "# Embed documents\n",
    "\n",
    "1. 创建 Embed"
   ]
  },
  {
   "cell_type": "code",
   "execution_count": null,
   "id": "dabcd8da",
   "metadata": {},
   "outputs": [],
   "source": [
    "from langchain_openai import OpenAIEmbeddings\n",
    "\n",
    "e_model = OpenAIEmbeddings()\n",
    "ebeddings = e_model.embed_documents(\n",
    "     [\n",
    "        \"你好\",\n",
    "        \"你好啊\",\n",
    "        \"你叫什么名字?\",\n",
    "        \"我叫王大锤\",\n",
    "        \"很高兴认识你大锤\",\n",
    "    ]\n",
    ")\n",
    "ebeddings\n",
    "\n",
    "# [[0.0003300555516486924,\n",
    "#   -0.0060982073022533625,\n",
    "#   -0.002391764280324817,\n",
    "#   -0.029246050037373125,\n",
    "#   -0.04374236023339329,\n",
    "#   0.013926087440424438,\n",
    "#   -0.022441402872292373,\n",
    "#   -0.008470963986649177,\n",
    "#   -0.015218590925080091,\n",
    "#   -0.019387547613221756,\n",
    "#   0.03550582132294638,\n",
    "#   0.0014572338484260309,\n",
    "#   0.004808871711447434,\n",
    "#   -0.002569166801570725,\n",
    "#   -0.008337912444960724,\n",
    "#   -0.01678986906851155,\n",
    "#   0.03411194430377691,\n",
    "#   -0.01516790462348449,\n",
    "#   0.0182597736774292,\n",
    "#   -0.020008454807767872,\n",
    "#   -4.872502076702215e-07,\n",
    "#   0.0012521123724103544,\n",
    "#   0.009281946674824012,\n",
    "#   0.0008537489641078078,\n",
    "#   -0.007767690155026299,\n",
    "# ..."
   ]
  },
  {
   "cell_type": "markdown",
   "id": "8c366a60",
   "metadata": {},
   "source": [
    "2. Embed query"
   ]
  },
  {
   "cell_type": "code",
   "execution_count": null,
   "id": "73f0aacc",
   "metadata": {},
   "outputs": [],
   "source": [
    "embedded_query = e_model.embed_query(\"这段对话中提到了什么名字?\")\n",
    "embedded_query[:5]\n",
    "\n",
    "# [0.004047733608954853,\n",
    "#  0.0009470974041103827,\n",
    "#  0.029676812733286713,\n",
    "#  -0.00633586830824844,\n",
    "#  -0.02480508870743322]"
   ]
  },
  {
   "cell_type": "markdown",
   "id": "9764508c",
   "metadata": {},
   "source": [
    "3. 嵌入向量缓存"
   ]
  },
  {
   "cell_type": "code",
   "execution_count": null,
   "id": "91671b91",
   "metadata": {},
   "outputs": [],
   "source": [
    "from langchain.embeddings import CacheBackedEmbeddings\n",
    "from langchain.storage import  LocalFileStore\n",
    "from langchain.document_loaders import TextLoader\n",
    "from langchain.text_splitter import CharacterTextSplitter\n",
    "from langchain_openai import OpenAIEmbeddings\n",
    "\n",
    "u_embeddings = OpenAIEmbeddings()\n",
    "fs = LocalFileStore(\"../cache/\")\n",
    "cached_embeddings = CacheBackedEmbeddings.from_bytes_store(\n",
    "    u_embeddings,\n",
    "    fs,\n",
    "    namespace=u_embeddings.model,\n",
    ")\n",
    "list(fs.yield_keys())\n",
    "\n",
    "# ['text-embedding-ada-002c63ea318-3b5d-533b-960b-46434f8b3c22',\n",
    "#  'text-embedding-ada-002f05b40fb-a095-546e-9c5d-49e069720828',\n",
    "#  'text-embedding-ada-0024250f053-4b1e-5c34-927d-a7857749217f',\n",
    "#  'text-embedding-ada-002b0c54c27-a009-50b4-9ccc-661d5478b195',\n",
    "#  'text-embedding-ada-002e94acbbe-7d17-5331-8310-4e37bdc56d31',\n",
    "#  'text-embedding-ada-0029286d74c-b3fc-56ff-8b08-9071a193f724']"
   ]
  },
  {
   "cell_type": "markdown",
   "id": "400c3c9f",
   "metadata": {},
   "source": [
    "4. 加载文档，切分文档，将切分文档向量化病存储在缓存中"
   ]
  },
  {
   "cell_type": "code",
   "execution_count": null,
   "id": "6d7a2465",
   "metadata": {},
   "outputs": [],
   "source": [
    "raw_documents = TextLoader(\"../assets/letter.txt\").load()\n",
    "text_splitter = CharacterTextSplitter(chunk_size=600,chunk_overlap=0)\n",
    "documents = text_splitter.split_documents(raw_documents)"
   ]
  },
  {
   "cell_type": "code",
   "execution_count": null,
   "id": "01572877",
   "metadata": {},
   "outputs": [],
   "source": [
    "! pip install faiss-cup"
   ]
  },
  {
   "cell_type": "code",
   "execution_count": null,
   "id": "94bed251",
   "metadata": {},
   "outputs": [],
   "source": [
    "from langchain.vectorstores import  FAISS\n",
    "%timeit -r  1 -n 1 db= FAISS.from_documents(documents,cached_embeddings)\n",
    "\n",
    "#查看缓存中的键\n",
    "list(fs.yield_keys())\n",
    "\n",
    "# ['text-embedding-ada-002c63ea318-3b5d-533b-960b-46434f8b3c22',\n",
    "#  'text-embedding-ada-0024250f053-4b1e-5c34-927d-a7857749217f',\n",
    "#  'text-embedding-ada-002b0c54c27-a009-50b4-9ccc-661d5478b195',\n",
    "#  'text-embedding-ada-002e94acbbe-7d17-5331-8310-4e37bdc56d31',\n",
    "#  'text-embedding-ada-0029286d74c-b3fc-56ff-8b08-9071a193f724']"
   ]
  },
  {
   "cell_type": "code",
   "execution_count": null,
   "id": "5614c78d",
   "metadata": {},
   "outputs": [],
   "source": [
    "到 4.8"
   ]
  }
 ],
 "metadata": {
  "kernelspec": {
   "display_name": "3.12.10",
   "language": "python",
   "name": "python3"
  },
  "language_info": {
   "codemirror_mode": {
    "name": "ipython",
    "version": 3
   },
   "file_extension": ".py",
   "mimetype": "text/x-python",
   "name": "python",
   "nbconvert_exporter": "python",
   "pygments_lexer": "ipython3",
   "version": "3.12.10"
  }
 },
 "nbformat": 4,
 "nbformat_minor": 5
}
