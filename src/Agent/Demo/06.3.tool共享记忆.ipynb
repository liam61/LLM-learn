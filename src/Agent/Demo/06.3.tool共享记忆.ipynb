{
 "cells": [
  {
   "cell_type": "markdown",
   "id": "76e6b5b8",
   "metadata": {},
   "source": [
    "# 在 Tool 和 Agent 之间共享记忆\n",
    "\n",
    "- 自定义一个工具用来LLMChain来总结内容\n",
    "- 使用readonlymemory来共享记忆\n",
    "- 观察共享与不共享的区别"
   ]
  },
  {
   "cell_type": "code",
   "execution_count": null,
   "id": "12af81b2",
   "metadata": {},
   "outputs": [],
   "source": [
    "from langchain.agents import initialize_agent, Tool, AgentType\n",
    "from langchain.memory import ConversationBufferMemory, ReadOnlySharedMemory\n",
    "from langchain.llms import OpenAI\n",
    "from langchain.chains import LLMChain\n",
    "from langchain.prompts import PromptTemplate,MessagesPlaceholder\n",
    "from langchain.utilities import SerpAPIWrapper"
   ]
  },
  {
   "cell_type": "markdown",
   "id": "e352c0b2",
   "metadata": {},
   "source": [
    "1. 创建一条链来总结对话"
   ]
  },
  {
   "cell_type": "code",
   "execution_count": null,
   "id": "4086d9bc",
   "metadata": {},
   "outputs": [],
   "source": [
    "template = \"\"\"以下是一段AI机器人和人类的对话:\n",
    "{chat_history}\n",
    "根据输入和上面的对话记录写一份对话总结.\n",
    "输入: {input}\"\"\"\n",
    "\n",
    "prompt = PromptTemplate(\n",
    "    input_variables=[\"input\",\"chat_history\"],\n",
    "    template=template,\n",
    ")\n",
    "\n",
    "memory = ConversationBufferMemory(\n",
    "    memory_key=\"chat_history\",\n",
    "    return_messages=True,\n",
    ")\n",
    "readonlymemory = ReadOnlySharedMemory(memory=memory)\n",
    "\n",
    "summary_chain = LLMChain(\n",
    "    llm=llm,\n",
    "    prompt=prompt,\n",
    "    verbose=True,\n",
    "    memory=readonlymemory,\n",
    ")"
   ]
  },
  {
   "cell_type": "markdown",
   "id": "c2daf16b",
   "metadata": {},
   "source": [
    "2. 构建工具"
   ]
  },
  {
   "cell_type": "code",
   "execution_count": null,
   "id": "0503efaf",
   "metadata": {},
   "outputs": [],
   "source": [
    "import os\n",
    "os.environ[\"SERPAPI_API_KEY\"] = \"f265b8d9834ed7692cba6db6618e2a8a9b24ed6964c457296a2626026e8ed594\"\n",
    "#搜索工具\n",
    "search = SerpAPIWrapper()\n",
    "#总结工具\n",
    "def SummaryChainFun(history):\n",
    "    print(\"\\n==============总结链开始运行==============\")\n",
    "    print(\"输入历史: \",history)\n",
    "    summary_chain.run(history)\n",
    "\n",
    "tools = [\n",
    "    Tool(\n",
    "        name=\"Search\",\n",
    "        func=search.run,\n",
    "        description=\"当需要了解实时的信息或者你不知道的事时候可以使用搜索工具\",\n",
    "    ),\n",
    "    Tool(\n",
    "        name=\"Summary\",\n",
    "        func=SummaryChainFun,\n",
    "        description=\"当你被要求总结一段对话的时候可以使用这个工具，工具输入必须为字符串，只在必要时使用\",\n",
    "    ),\n",
    "]\n",
    "print(tools)"
   ]
  },
  {
   "cell_type": "markdown",
   "id": "d2338626",
   "metadata": {},
   "source": [
    "3. 创建记忆工具"
   ]
  },
  {
   "cell_type": "code",
   "execution_count": null,
   "id": "24132fde",
   "metadata": {},
   "outputs": [],
   "source": [
    "memory = ConversationBufferMemory(\n",
    "    memory_key=\"chat_history\",\n",
    "    return_messages=True,\n",
    ")"
   ]
  },
  {
   "cell_type": "markdown",
   "id": "bf7b563d",
   "metadata": {},
   "source": [
    "4. 创建 agent"
   ]
  },
  {
   "cell_type": "code",
   "execution_count": null,
   "id": "9ebf54b8",
   "metadata": {},
   "outputs": [],
   "source": [
    "agent_chain = initialize_agent(\n",
    "    tools,\n",
    "    llm,\n",
    "    agent=AgentType.ZERO_SHOT_REACT_DESCRIPTION,\n",
    "    verbose=True,\n",
    "    handle_parsing_errors=True,\n",
    "    memory=memory,\n",
    ")\n",
    "\n",
    "# 查看默认 prompt\n",
    "print(agent_chain.agent.llm_chain.prompt.template)\n",
    "\n",
    "# Answer the following questions as best you can. You have access to the following tools:\n",
    "\n",
    "# Search: 当需要了解实时的信息或者你不知道的事时候可以使用搜索工具\n",
    "# Summary: 当你被要求总结一段对话的时候可以使用这个工具，工具输入必须为字符串，只在必要时使用\n",
    "\n",
    "# Use the following format:\n",
    "\n",
    "# Question: the input question you must answer\n",
    "# Thought: you should always think about what to do\n",
    "# Action: the action to take, should be one of [Search, Summary]\n",
    "# Action Input: the input to the action\n",
    "# Observation: the result of the action\n",
    "# ... (this Thought/Action/Action Input/Observation can repeat N times)\n",
    "# Thought: I now know the final answer\n",
    "# Final Answer: the final answer to the original input question\n",
    "\n",
    "# Begin!\n",
    "\n",
    "# Question: {input}\n",
    "# Thought:{agent_scratchpad}"
   ]
  },
  {
   "cell_type": "markdown",
   "id": "4291d9c2",
   "metadata": {},
   "source": [
    "5. 重新定义 prompt，插入记忆"
   ]
  },
  {
   "cell_type": "code",
   "execution_count": null,
   "id": "eecce3f0",
   "metadata": {},
   "outputs": [],
   "source": [
    "prefix = \"\"\"Have a conversation with a human, answering the following questions as best you can. You have access to the following tools:\"\"\"\n",
    "suffix = \"\"\"Begin!\"\n",
    "{chat_history}\n",
    "Question: {input}\n",
    "{agent_scratchpad}\"\"\"\n",
    "\n",
    "agent_chain = initialize_agent(\n",
    "    tools,\n",
    "    llm,\n",
    "    agent=AgentType.ZERO_SHOT_REACT_DESCRIPTION,\n",
    "    verbose=True,\n",
    "    handle_parsing_errors=True,\n",
    "    agent_kwargs={\n",
    "        \"prefix\":prefix,\n",
    "        \"suffix\":suffix,\n",
    "        \"agent_scratchpad\":MessagesPlaceholder(\"agent_scratchpad\"),\n",
    "        \"chat_history\":MessagesPlaceholder(\"chat_history\"),\n",
    "        \"input\":MessagesPlaceholder(\"input\"),\n",
    "    },\n",
    "    memory=memory,\n",
    ")\n",
    "print(agent_chain.agent.llm_chain.prompt.template)\n",
    "\n",
    "# Have a conversation with a human, answering the following questions as best you can. You have access to the following tools:\n",
    "\n",
    "# Search: 当需要了解实时的信息或者你不知道的事时候可以使用搜索工具\n",
    "# Summary: 当你被要求总结一段对话的时候可以使用这个工具，工具输入必须为字符串，只在必要时使用\n",
    "\n",
    "# Use the following format:\n",
    "\n",
    "# Question: the input question you must answer\n",
    "# Thought: you should always think about what to do\n",
    "# Action: the action to take, should be one of [Search, Summary]\n",
    "# Action Input: the input to the action\n",
    "# Observation: the result of the action\n",
    "# ... (this Thought/Action/Action Input/Observation can repeat N times)\n",
    "# Thought: I now know the final answer\n",
    "# Final Answer: the final answer to the original input question\n",
    "\n",
    "# Begin!\"\n",
    "# {chat_history}\n",
    "# Question: {input}\n",
    "# {agent_scratchpad}"
   ]
  },
  {
   "cell_type": "code",
   "execution_count": null,
   "id": "ab328111",
   "metadata": {},
   "outputs": [],
   "source": [
    "agent_chain.run(input=\"美国第45任总统是谁?\")\n",
    "print(agent_chain.memory.buffer)\n",
    "\n",
    "agent_chain.run(input=\"我们都聊了什么？\")\n",
    "print(agent_chain.memory.buffer)"
   ]
  }
 ],
 "metadata": {
  "kernelspec": {
   "display_name": "3.12.10",
   "language": "python",
   "name": "python3"
  },
  "language_info": {
   "name": "python",
   "version": "3.12.10"
  }
 },
 "nbformat": 4,
 "nbformat_minor": 5
}
