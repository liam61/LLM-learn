{
 "cells": [
  {
   "cell_type": "markdown",
   "id": "8714a0f7",
   "metadata": {},
   "source": [
    "# Prompt Template\n",
    "\n",
    "1. PromptTemplate for LLM"
   ]
  },
  {
   "cell_type": "code",
   "execution_count": 5,
   "id": "a46ca10a",
   "metadata": {},
   "outputs": [
    {
     "data": {
      "text/plain": [
       "'你是一个算命大师，帮我起1个具有法国特色的女孩名字'"
      ]
     },
     "execution_count": 5,
     "metadata": {},
     "output_type": "execute_result"
    }
   ],
   "source": [
    "from langchain.prompts import PromptTemplate\n",
    "\n",
    "prompt = PromptTemplate.from_template(\"你是一个{name}，帮我起1个具有{country}特色的{gender}名字\")\n",
    "prompt.format(name=\"算命大师\", country=\"法国\", gender=\"女孩\")\n"
   ]
  },
  {
   "cell_type": "markdown",
   "id": "250f1469",
   "metadata": {},
   "source": [
    "2. ChatPromptTemplate for chatmodels\n",
    "\n",
    "相当于是在模拟对话，让 AI 获取更多的上下文"
   ]
  },
  {
   "cell_type": "code",
   "execution_count": 6,
   "id": "499e23f5",
   "metadata": {},
   "outputs": [
    {
     "data": {
      "text/plain": [
       "[SystemMessage(content='你是一个起名大师. 你的名字叫陈大师', additional_kwargs={}, response_metadata={}),\n",
       " HumanMessage(content='你好陈大师,你感觉如何？', additional_kwargs={}, response_metadata={}),\n",
       " AIMessage(content='你好！我状态非常好!', additional_kwargs={}, response_metadata={}),\n",
       " HumanMessage(content='你叫什么名字？', additional_kwargs={}, response_metadata={})]"
      ]
     },
     "execution_count": 6,
     "metadata": {},
     "output_type": "execute_result"
    }
   ],
   "source": [
    "from langchain.prompts import ChatPromptTemplate\n",
    "\n",
    "chat_template = ChatPromptTemplate.from_messages(\n",
    "    [\n",
    "        (\"system\", \"你是一个起名大师. 你的名字叫{name}\"),\n",
    "        (\"human\", \"你好{name},你感觉如何？\"),\n",
    "        (\"ai\", \"你好！我状态非常好!\"),\n",
    "        (\"human\", \"{user_input}\"),\n",
    "    ]\n",
    ")\n",
    "\n",
    "chat_template.format_messages(name=\"陈大师\", user_input=\"你叫什么名字？\")"
   ]
  },
  {
   "cell_type": "markdown",
   "id": "01c9df13",
   "metadata": {},
   "source": [
    "3. 各种 Message 类型和 MessagePromptTemplate"
   ]
  },
  {
   "cell_type": "code",
   "execution_count": 7,
   "id": "bd4d93b9",
   "metadata": {},
   "outputs": [
    {
     "data": {
      "text/plain": [
       "[SystemMessage(content='你是一个起名大师', additional_kwargs={'大师姓名': '陈瞎子'}, response_metadata={}),\n",
       " HumanMessage(content='请问大师叫什么?', additional_kwargs={}, response_metadata={}),\n",
       " AIMessage(content='我叫陈瞎子', additional_kwargs={}, response_metadata={})]"
      ]
     },
     "execution_count": 7,
     "metadata": {},
     "output_type": "execute_result"
    }
   ],
   "source": [
    "from langchain.schema import SystemMessage\n",
    "from langchain.schema import HumanMessage\n",
    "from langchain.schema import AIMessage\n",
    "\n",
    "# 直接创建消息\n",
    "sy = SystemMessage(\n",
    "  content=\"你是一个起名大师\",\n",
    "  additional_kwargs={\"大师姓名\": \"陈瞎子\"}\n",
    ")\n",
    "\n",
    "hu = HumanMessage(\n",
    "  content=\"请问大师叫什么?\"\n",
    ")\n",
    "ai = AIMessage(\n",
    "  content=\"我叫陈瞎子\"\n",
    ")\n",
    "\n",
    "[sy,hu,ai]"
   ]
  },
  {
   "cell_type": "code",
   "execution_count": 8,
   "id": "c1e093ef",
   "metadata": {},
   "outputs": [
    {
     "data": {
      "text/plain": [
       "[AIMessagePromptTemplate(prompt=PromptTemplate(input_variables=['subject'], input_types={}, partial_variables={}, template='愿{subject}与你同在！'), additional_kwargs={}),\n",
       " SystemMessagePromptTemplate(prompt=PromptTemplate(input_variables=['subject'], input_types={}, partial_variables={}, template='愿{subject}与你同在！'), additional_kwargs={}),\n",
       " HumanMessagePromptTemplate(prompt=PromptTemplate(input_variables=['subject'], input_types={}, partial_variables={}, template='愿{subject}与你同在！'), additional_kwargs={}),\n",
       " ChatMessagePromptTemplate(prompt=PromptTemplate(input_variables=['subject'], input_types={}, partial_variables={}, template='愿{subject}与你同在！'), additional_kwargs={}, role='天行者')]"
      ]
     },
     "execution_count": 8,
     "metadata": {},
     "output_type": "execute_result"
    }
   ],
   "source": [
    "from langchain.prompts import AIMessagePromptTemplate\n",
    "from langchain.prompts import SystemMessagePromptTemplate\n",
    "from langchain.prompts import HumanMessagePromptTemplate\n",
    "from langchain.prompts import ChatMessagePromptTemplate\n",
    "\n",
    "prompt = \"愿{subject}与你同在！\"\n",
    "\n",
    "ai_message_prompt = AIMessagePromptTemplate.from_template(template=prompt)\n",
    "sy_message_prompt = SystemMessagePromptTemplate.from_template(template=prompt)\n",
    "hm_message_prompt = HumanMessagePromptTemplate.from_template(template=prompt)\n",
    "\n",
    "# 允许自定义 role\n",
    "chat_message_prompt = ChatMessagePromptTemplate.from_template(role=\"天行者\",template=prompt)\n",
    "chat_message_prompt.format(subject=\"原力\")\n",
    "\n",
    "[ai_message_prompt, sy_message_prompt, hm_message_prompt, chat_message_prompt]\n"
   ]
  },
  {
   "cell_type": "markdown",
   "id": "09f6c452",
   "metadata": {},
   "source": [
    "4. 自定义 template"
   ]
  },
  {
   "cell_type": "code",
   "execution_count": 9,
   "id": "448da4d4",
   "metadata": {},
   "outputs": [
    {
     "name": "stdout",
     "output_type": "stream",
     "text": [
      "你是一个非常有经验和天赋的程序员，现在给你如下函数名称，你会按照如下格式，输出这段代码的名称、源代码、中文解释。\n",
      "函数名称: hello_world\n",
      "源代码:\n",
      "def hello_world():\n",
      "    print(\"Hello, world!\")\n",
      "\n",
      "代码解释:\n",
      "\n"
     ]
    }
   ],
   "source": [
    "## 函数大师：根据函数名称，查找函数代码，并给出中文的代码说明\n",
    "\n",
    "from langchain.prompts import StringPromptTemplate\n",
    "\n",
    "# 定义一个简单的函数作为示例效果\n",
    "def hello_world():\n",
    "    print(\"Hello, world!\")\n",
    "\n",
    "PROMPT = \"\"\"\\\n",
    "你是一个非常有经验和天赋的程序员，现在给你如下函数名称，你会按照如下格式，输出这段代码的名称、源代码、中文解释。\n",
    "函数名称: {function_name}\n",
    "源代码:\n",
    "{source_code}\n",
    "代码解释:\n",
    "\"\"\"\n",
    "\n",
    "import inspect\n",
    "\n",
    "def get_source_code(function_name):\n",
    "    #获得源代码\n",
    "    return inspect.getsource(function_name)\n",
    "\n",
    "# 自定义的模板class\n",
    "class CustomPrompt(StringPromptTemplate):\n",
    "    def format(self, **kwargs) -> str:\n",
    "        # 生成提示词模板\n",
    "        prompt = PROMPT.format(\n",
    "            function_name=kwargs[\"function_name\"].__name__,\n",
    "            source_code=get_source_code(kwargs[\"function_name\"]) # 获得源代码\n",
    "        )\n",
    "        return prompt\n",
    "\n",
    "prompt_message = CustomPrompt(input_variables=[\"function_name\"])\n",
    "pm = prompt_message.format(function_name=hello_world)\n",
    "\n",
    "print(pm)\n"
   ]
  },
  {
   "cell_type": "code",
   "execution_count": 11,
   "id": "4804b279",
   "metadata": {},
   "outputs": [
    {
     "name": "stdout",
     "output_type": "stream",
     "text": [
      "函数名称: hello_world\n",
      "\n",
      "源代码:\n",
      "```python\n",
      "def hello_world():\n",
      "    \"\"\"打印'Hello, world!'到控制台\"\"\"\n",
      "    print(\"Hello, world!\")\n",
      "```\n",
      "\n",
      "代码解释:\n",
      "1. 这是一个经典的Python入门函数，用于演示最基本的函数结构和输出功能\n",
      "2. 使用`def`关键字定义了一个名为`hello_world`的函数，该函数不需要任何参数\n",
      "3. 函数体内只有一条语句，调用内置的`print()`函数\n",
      "4. 当调用该函数时，会在控制台输出字符串\"Hello, world!\"\n",
      "5. 这是许多编程语言初学者学习编写的第一个程序，具有象征意义\n",
      "6. 函数包含了一个文档字符串(docstring)，简要说明了函数的功能\n",
      "\n",
      "典型调用方式:\n",
      "```python\n",
      "hello_world()  # 输出: Hello, world!\n",
      "```\n"
     ]
    }
   ],
   "source": [
    "# 和LLM连接起来\n",
    "import os\n",
    "from langchain_deepseek import ChatDeepSeek\n",
    "\n",
    "os.environ[\"OPENAI_API_KEY\"] = \"sk-xxx\"\n",
    "os.environ[\"OPENAI_API_BASE\"] = \"https://api.deepseek.com\"\n",
    "\n",
    "openai_api_key = os.getenv(\"OPENAI_API_KEY\")\n",
    "openai_api_base = os.getenv(\"OPENAI_API_BASE\")\n",
    "\n",
    "llm = ChatDeepSeek(\n",
    "    model=\"deepseek-chat\",\n",
    "    api_key=openai_api_key,\n",
    "    api_base=openai_api_base,\n",
    "    temperature=0,\n",
    "    max_tokens=None,\n",
    "    timeout=None,\n",
    ")\n",
    "\n",
    "ai_message = llm.invoke(pm)\n",
    "\n",
    "print(ai_message.content)\n",
    "# content='函数名称: hello_world\\n\\n源代码:\\n```python\\ndef hello_world():\\n    \"\"\"打印\\'Hello, world!\\'到控制台\"\"\"\\n    print(\"Hello, world!\")\\n```\\n\\n代码解释:\\n1. 这是一个经典的Python入门函数，用于演示最基本的函数结构和输出功能\\n2. 使用`def`关键字定义了一个名为`hello_world`的函数，该函数不需要任何参数\\n3. 函数体内调用`print()`内置函数，向标准输出打印字符串\"Hello, world!\"\\n4. 该函数没有返回值(隐式返回None)，主要作用是通过控制台输出进行演示\\n5. 包含文档字符串(docstring)说明函数用途，这是Python代码的最佳实践\\n\\n典型用途：\\n- 编程语言学习时的第一个示例程序\\n- 测试开发环境是否配置正确\\n- 作为新项目初始化的测试用例' additional_kwargs={'refusal': None} response_metadata={'token_usage': {'completion_tokens': 176, 'prompt_tokens': 57, 'total_tokens': 233, 'completion_tokens_details': None, 'prompt_tokens_details': {'audio_tokens': None, 'cached_tokens': 0}, 'prompt_cache_hit_tokens': 0, 'prompt_cache_miss_tokens': 57}, 'model_name': 'deepseek-chat', 'system_fingerprint': 'fp_3d5141a69a_prod0225', 'id': 'da63b5f6-c177-4338-aae5-a8632f446ac6', 'finish_reason': 'stop', 'logprobs': None} id='run-a28371ed-4396-4393-8093-b40cabed98e0-0' usage_metadata={'input_tokens': 57, 'output_tokens': 176, 'total_tokens': 233, 'input_token_details': {'cache_read': 0}, 'output_token_details': {}}\n"
   ]
  },
  {
   "cell_type": "markdown",
   "id": "df6e9896",
   "metadata": {},
   "source": [
    "5. 模板引擎\n",
    "\n",
    "- f-string\n",
    "- jinji2"
   ]
  },
  {
   "cell_type": "code",
   "execution_count": 12,
   "id": "4355ba33",
   "metadata": {},
   "outputs": [
    {
     "data": {
      "text/plain": [
       "'\\n给我讲一个关于翠花的悲伤故事\\n'"
      ]
     },
     "execution_count": 12,
     "metadata": {},
     "output_type": "execute_result"
    }
   ],
   "source": [
    "from langchain.prompts import PromptTemplate\n",
    "\n",
    "fstring_template = \"\"\"\n",
    "给我讲一个关于{name}的{what}故事\n",
    "\"\"\"\n",
    "\n",
    "prompt = PromptTemplate.from_template(fstring_template)\n",
    "\n",
    "prompt.format(name=\"翠花\", what=\"悲伤\")"
   ]
  },
  {
   "cell_type": "code",
   "execution_count": 13,
   "id": "d22daf84",
   "metadata": {},
   "outputs": [
    {
     "name": "stdout",
     "output_type": "stream",
     "text": [
      "Collecting jinja2\n",
      "  Downloading jinja2-3.1.6-py3-none-any.whl.metadata (2.9 kB)\n",
      "Collecting MarkupSafe>=2.0 (from jinja2)\n",
      "  Downloading MarkupSafe-3.0.2-cp312-cp312-macosx_11_0_arm64.whl.metadata (4.0 kB)\n",
      "Downloading jinja2-3.1.6-py3-none-any.whl (134 kB)\n",
      "Downloading MarkupSafe-3.0.2-cp312-cp312-macosx_11_0_arm64.whl (12 kB)\n",
      "Installing collected packages: MarkupSafe, jinja2\n",
      "Successfully installed MarkupSafe-3.0.2 jinja2-3.1.6\n"
     ]
    }
   ],
   "source": [
    "! pip install jinja2"
   ]
  },
  {
   "cell_type": "code",
   "execution_count": 14,
   "id": "ae6db518",
   "metadata": {},
   "outputs": [
    {
     "data": {
      "text/plain": [
       "'给我讲一个关于狗剩的高兴故事'"
      ]
     },
     "execution_count": 14,
     "metadata": {},
     "output_type": "execute_result"
    }
   ],
   "source": [
    "from langchain.prompts import PromptTemplate\n",
    "\n",
    "jinja2_template = \"给我讲一个关于{{name}}的{{what}}故事\"\n",
    "prompt = PromptTemplate.from_template(jinja2_template, template_format=\"jinja2\")\n",
    "\n",
    "prompt.format(name=\"狗剩\", what=\"高兴\")"
   ]
  },
  {
   "cell_type": "markdown",
   "id": "d92d181b",
   "metadata": {},
   "source": [
    "6. 组合式模板\n",
    "\n",
    "- Final prompt: 最终返回的提示词模板\n",
    "- Pipeline prompt: 组成提示词的管道模板"
   ]
  },
  {
   "cell_type": "code",
   "execution_count": 23,
   "id": "4853a713",
   "metadata": {},
   "outputs": [
    {
     "name": "stdout",
     "output_type": "stream",
     "text": [
      "['prohibit_list', 'person', 'behavior_list', 'xingge']\n"
     ]
    }
   ],
   "source": [
    "from langchain.prompts.prompt import PromptTemplate\n",
    "from langchain.prompts.pipeline import PipelinePromptTemplate\n",
    "\n",
    "# Final Prompt 由一系列变量构成\n",
    "full_template = \"\"\"{character}\n",
    "{behavior}\n",
    "{prohibit}\"\"\"\n",
    "\n",
    "full_prompt = PromptTemplate.from_template(full_template)\n",
    "\n",
    "# 第一层 性格\n",
    "Character_template = \"\"\"你是{person}，你有着{xingge}.\"\"\"\n",
    "character_prompt = PromptTemplate.from_template(Character_template)\n",
    "\n",
    "# 第二层 行为\n",
    "behavior_template = \"\"\"你遵从以下的行为:\n",
    "{behavior_list}\n",
    "\"\"\"\n",
    "behavior_prompt = PromptTemplate.from_template(behavior_template)\n",
    "\n",
    "# 第三层 限制\n",
    "prohibit_template = \"\"\"你不允许有以下行为:\n",
    "{prohibit_list}\n",
    "\"\"\"\n",
    "prohibit_prompt = PromptTemplate.from_template(prohibit_template)\n",
    "\n",
    "[character_prompt, behavior_prompt, prohibit_prompt]\n",
    "\n",
    "# 组合\n",
    "input_prompts = [\n",
    "    (\"character\", character_prompt),\n",
    "    (\"behavior\", behavior_prompt),\n",
    "    (\"prohibit\", prohibit_prompt)\n",
    "]\n",
    "pipeline_prompt = PipelinePromptTemplate(final_prompt=full_prompt, pipeline_prompts=input_prompts)\n",
    "\n",
    "print(pipeline_prompt.input_variables)\n",
    "\n"
   ]
  },
  {
   "cell_type": "markdown",
   "id": "3d28091d",
   "metadata": {},
   "source": [
    "- 调用组合后的提示词模板"
   ]
  },
  {
   "cell_type": "code",
   "execution_count": 24,
   "id": "06a87437",
   "metadata": {},
   "outputs": [
    {
     "name": "stdout",
     "output_type": "stream",
     "text": [
      "你是埃隆马斯克，你有着钢铁般的意志，你是世界首富，精通物理、天文、商业，你是商业奇才，你的终极梦想是殖民火星..\n",
      "你遵从以下的行为:\n",
      "1.你喜欢冒险 \n",
      " 2.你非常崇拜爱因斯坦 \n",
      " 3.你总是乐于助人，回答用户各种问题.\n",
      "\n",
      "你不允许有以下行为:\n",
      "1.你不可以说自己是一个人工智能助手或者机器人 \n",
      " 2.当你不知道答案的时候，可以说让我再想想. \n",
      "\n"
     ]
    }
   ],
   "source": [
    "pm = pipeline_prompt.format(\n",
    "    person=\"埃隆马斯克\",\n",
    "    xingge=\"钢铁般的意志，你是世界首富，精通物理、天文、商业，你是商业奇才，你的终极梦想是殖民火星.\",\n",
    "    behavior_list=\"1.你喜欢冒险 \\n 2.你非常崇拜爱因斯坦 \\n 3.你总是乐于助人，回答用户各种问题.\",\n",
    "    prohibit_list=\"1.你不可以说自己是一个人工智能助手或者机器人 \\n 2.当你不知道答案的时候，可以说让我再想想. \"\n",
    ")\n",
    "\n",
    "print(pm)"
   ]
  },
  {
   "cell_type": "markdown",
   "id": "313e15c1",
   "metadata": {},
   "source": [
    "7. 加载本地 prompt\n",
    "\n",
    "load_prompt()"
   ]
  },
  {
   "cell_type": "code",
   "execution_count": 35,
   "id": "7b2f8f5e",
   "metadata": {},
   "outputs": [
    {
     "name": "stdout",
     "output_type": "stream",
     "text": [
      "给我讲一个关于小黑的高兴的故事\n",
      "给我讲一个关于小红的搞笑的故事\n"
     ]
    }
   ],
   "source": [
    "from langchain.prompts import load_prompt\n",
    "\n",
    "# 加载 yaml\n",
    "prompt = load_prompt(\"02.1.simple.yaml\")\n",
    "print(prompt.format(name=\"小黑\", what=\"高兴的\"))\n",
    "\n",
    "# 加载 json\n",
    "prompt = load_prompt(\"02.2.simple.json\")\n",
    "print(prompt.format(name=\"小红\",what=\"搞笑的\"))\n",
    "\n"
   ]
  },
  {
   "cell_type": "code",
   "execution_count": null,
   "id": "93069519",
   "metadata": {},
   "outputs": [],
   "source": [
    "# 支持加载文件格式的模版，并且对prompt的最终解析结果进行自定义格式化\n",
    "prompt = load_prompt(\"prompt_with_output_parser.json\")\n",
    "prompt.output_parser.parse(\n",
    "    \"George Washington was born in 1732 and died in 1799.\\nScore: 1/2\"\n",
    ")"
   ]
  }
 ],
 "metadata": {
  "kernelspec": {
   "display_name": "3.12.10",
   "language": "python",
   "name": "python3"
  },
  "language_info": {
   "codemirror_mode": {
    "name": "ipython",
    "version": 3
   },
   "file_extension": ".py",
   "mimetype": "text/x-python",
   "name": "python",
   "nbconvert_exporter": "python",
   "pygments_lexer": "ipython3",
   "version": "3.12.10"
  }
 },
 "nbformat": 4,
 "nbformat_minor": 5
}
