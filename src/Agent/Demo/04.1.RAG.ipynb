{
 "cells": [
  {
   "cell_type": "markdown",
   "id": "34fe827d",
   "metadata": {},
   "source": [
    "# Loader 机制\n",
    "\n"
   ]
  },
  {
   "cell_type": "code",
   "execution_count": null,
   "id": "e829075f",
   "metadata": {},
   "outputs": [],
   "source": [
    "! pip install -U langchain-community\n",
    "! pip install \"unstructured[xlsx]\"\n",
    "! pip intsall jq"
   ]
  },
  {
   "cell_type": "code",
   "execution_count": 3,
   "id": "3eeab8b2",
   "metadata": {},
   "outputs": [
    {
     "data": {
      "text/plain": [
       "[Document(metadata={'source': '../assets/loader.md'}, page_content='# 我是一个markdown加载示例\\n- 第一项目\\n- 第二个项目\\n- 第三个项目\\n\\n## 第一个项目\\nAI研习社最厉害专业的AI研究基地\\n\\n## 第二个项目\\nAIGC打造未来AI应用天地\\n\\n## 第三个项目\\nAI研习社是一个非常牛逼的AI媒体')]"
      ]
     },
     "execution_count": 3,
     "metadata": {},
     "output_type": "execute_result"
    }
   ],
   "source": [
    "#使用loader来加载markdown文本\n",
    "from langchain.document_loaders import TextLoader\n",
    "\n",
    "loader = TextLoader(\"../assets/loader.md\")\n",
    "loader.load()"
   ]
  },
  {
   "cell_type": "code",
   "execution_count": 2,
   "id": "37ce746d",
   "metadata": {},
   "outputs": [
    {
     "name": "stdout",
     "output_type": "stream",
     "text": [
      "[Document(metadata={'source': '北京', 'row': 0}, page_content='\\ufeffProject: AI GC培训\\nDES: 培训课程\\nPrice: 500\\nPeople: 100\\nLocation: 北京'), Document(metadata={'source': '西安', 'row': 1}, page_content='\\ufeffProject: AI工程师认证\\nDES: 微软AI认证\\nPrice: 6000\\nPeople: 200\\nLocation: 西安'), Document(metadata={'source': '深圳', 'row': 2}, page_content='\\ufeffProject: AI应用大会\\nDES: AI应用创新大会\\nPrice: 200门票\\nPeople: 300\\nLocation: 深圳'), Document(metadata={'source': '香港', 'row': 3}, page_content='\\ufeffProject: AI 应用咨询服务\\nDES: AI与场景结合\\nPrice: 1000/小时\\nPeople: 50\\nLocation: 香港'), Document(metadata={'source': '上海', 'row': 4}, page_content='\\ufeffProject: AI项目可研\\nDES: 可行性报告\\nPrice: 20000\\nPeople: 60\\nLocation: 上海')]\n"
     ]
    }
   ],
   "source": [
    "#使用loader来加载cvs文件\n",
    "from langchain.document_loaders.csv_loader import CSVLoader\n",
    "\n",
    "#loader = CSVLoader(file_path=\"loader.csv\")\n",
    "loader = CSVLoader(file_path=\"../assets/loader.csv\",source_column=\"Location\")\n",
    "data = loader.load()\n",
    "print(data)"
   ]
  },
  {
   "cell_type": "code",
   "execution_count": null,
   "id": "c32bc786",
   "metadata": {},
   "outputs": [],
   "source": [
    "#某个目录下，有excel文件，我们需要把目录下所有的xlxs文件加载进来\n",
    "from langchain.document_loaders import DirectoryLoader\n",
    "\n",
    "#目录下的.html和.rst文件不会被这种loader加载\n",
    "#loader = DirectoryLoader(\"目录地址\",glob=\"指定加载说明格式的文件\")\n",
    "loader = DirectoryLoader(path=\"../assets/\",glob=\"*.xlsx\")\n",
    "docs = loader.load()\n",
    "len(docs)"
   ]
  },
  {
   "cell_type": "code",
   "execution_count": null,
   "id": "101182bd",
   "metadata": {},
   "outputs": [],
   "source": [
    "#使用loader来加载html文件\n",
    "#from langchain.document_loaders import UnstructuredHTMLLoader\n",
    "\n",
    "#loader = UnstructuredHTMLLoader(\"loader.html\")\n",
    "# 只读文本方法\n",
    "from langchain.document_loaders import BSHTMLLoader\n",
    "loader = BSHTMLLoader(\"loader.html\")\n",
    "data = loader.load()\n",
    "data"
   ]
  },
  {
   "cell_type": "code",
   "execution_count": null,
   "id": "78b4656e",
   "metadata": {},
   "outputs": [],
   "source": [
    "#使用loader来加载json文件\n",
    "from langchain.document_loaders import JSONLoader\n",
    "loader = JSONLoader(\n",
    "    file_path = \"../assets/simple_prompt.json\",jq_schema=\".template\",text_content=True\n",
    ")\n",
    "data = loader.load()\n",
    "print(data)"
   ]
  },
  {
   "cell_type": "code",
   "execution_count": null,
   "id": "517c7eca",
   "metadata": {},
   "outputs": [],
   "source": [
    "#loader加载pdf文件\n",
    "from langchain.document_loaders import PyPDFLoader\n",
    "loader = PyPDFLoader(\"../assets/loader.pdf\")\n",
    "pages = loader.load_and_split()\n",
    "pages[0]"
   ]
  }
 ],
 "metadata": {
  "kernelspec": {
   "display_name": "3.12.10",
   "language": "python",
   "name": "python3"
  },
  "language_info": {
   "codemirror_mode": {
    "name": "ipython",
    "version": 3
   },
   "file_extension": ".py",
   "mimetype": "text/x-python",
   "name": "python",
   "nbconvert_exporter": "python",
   "pygments_lexer": "ipython3",
   "version": "3.12.10"
  }
 },
 "nbformat": 4,
 "nbformat_minor": 5
}
