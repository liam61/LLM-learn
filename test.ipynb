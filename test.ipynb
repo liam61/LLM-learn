{
 "cells": [
  {
   "cell_type": "code",
   "execution_count": null,
   "id": "522791df",
   "metadata": {},
   "outputs": [],
   "source": [
    "from langchain_deepseek import ChatDeepSeek\n",
    "from langchain.agents import initialize_agent\n",
    "\n",
    "llm = ChatDeepSeek(\n",
    "    model=\"deepseek-chat\",\n",
    "    api_key=openai_api_key,\n",
    "    api_base=openai_api_base,\n",
    "    temperature=0,\n",
    ")\n",
    "# ai_message = llm.invoke(\"prompt...\")\n",
    "\n",
    "tools = load_tools([\"serpapi\",\"llm-math\"], llm=llm)\n",
    "agent = initialize_agent(\n",
    "    tools,\n",
    "    llm,\n",
    "    agent=AgentType.ZERO_SHOT_REACT_DESCRIPTION,#这里有不同的类型\n",
    "    verbose=True,#是否打印日志\n",
    ")\n",
    "\n",
    "agent.run(\"prompt...\")\n",
    "\n"
   ]
  }
 ],
 "metadata": {
  "language_info": {
   "name": "python"
  }
 },
 "nbformat": 4,
 "nbformat_minor": 5
}
